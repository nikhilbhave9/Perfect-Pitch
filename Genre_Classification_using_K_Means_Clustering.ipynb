{
  "cells": [
    {
      "cell_type": "markdown",
      "metadata": {
        "id": "ggIe0WYli-_w"
      },
      "source": [
        "# 0. Configuring the project\n",
        "Before getting started, we will install some external modules crucial to the execution of our project.\n",
        " "
      ]
    },
    {
      "cell_type": "code",
      "execution_count": null,
      "metadata": {
        "colab": {
          "base_uri": "https://localhost:8080/"
        },
        "id": "oQRE340rjO_f",
        "outputId": "c5be48c5-9f52-410a-aa68-47796e258b47"
      },
      "outputs": [],
      "source": [
        "%pip install python_speech_features                                                           \n",
        "%pip install youtube_dl\n",
        "%pip install sklearn"
      ]
    },
    {
      "cell_type": "markdown",
      "metadata": {
        "id": "OApSwysJiqRY"
      },
      "source": [
        "# 1. Imports\n",
        "After installing the aforementioned packages, we're now ready to import them into our project file"
      ]
    },
    {
      "cell_type": "code",
      "execution_count": null,
      "metadata": {
        "id": "_F8WueNhhkB3"
      },
      "outputs": [],
      "source": [
        "from python_speech_features import mfcc                                           # Aids in extracting and operating on sound features \n",
        "import youtube_dl                                                                 # Youtube downloader to download songs from a youtube playlist\n",
        "from sklearn.cluster import KMeans\n",
        "import pprint\n",
        "import scipy.io.wavfile as wav\n",
        "import numpy as np\n",
        "from tempfile import TemporaryFile\n",
        "import os\n",
        "import pickle\n",
        "import random \n",
        "import operator\n",
        "import math\n",
        "from collections import defaultdict\n",
        "import os"
      ]
    },
    {
      "cell_type": "markdown",
      "metadata": {
        "id": "P0yfYYcx-F2W"
      },
      "source": [
        "# 2. Functions\n",
        "The below mentioned helper functions aid in a series of tasks, from downloading youtube music, to training the data and executing the K-Means Clustering Algorithm"
      ]
    },
    {
      "cell_type": "markdown",
      "metadata": {
        "id": "OpiNt0-x-XVm"
      },
      "source": [
        ">### i. takeUserPlaylist\n",
        ">>#### a. Parameters: void\n",
        ">>#### b. Return Value: listOfSongs (list)\n",
        ">>#### c. Description: Asks the user for a YouTube playlist sequentially and stores in a list\n",
        "\n"
      ]
    },
    {
      "cell_type": "code",
      "execution_count": null,
      "metadata": {
        "id": "1enC6j1m-FNI"
      },
      "outputs": [],
      "source": [
        "def takeUserPlaylist():\n",
        "    n = int(input(\"How many songs are in your playlist - \"))\n",
        "    listOfSongs = [ {} for i in range(n) ]\n",
        "\n",
        "    for i, song in enumerate(listOfSongs):\n",
        "        listOfSongs[i]['url'] = input(\"Enter URL: \")\n",
        "        \n",
        "    return listOfSongs"
      ]
    },
    {
      "cell_type": "markdown",
      "metadata": {
        "id": "yb6K6bN9Z8Lh"
      },
      "source": [
        ">### ii. my_hook\n",
        ">>#### a. Parameters: d - a youtube_dl object\n",
        ">>#### b. Return Value: void\n",
        ">>#### c. Description: Called directly by youtube_dl to show progress of the video-audio conversion"
      ]
    },
    {
      "cell_type": "code",
      "execution_count": null,
      "metadata": {
        "id": "Qg3CQA3HbYKh"
      },
      "outputs": [],
      "source": [
        "def my_hook(d):\n",
        "    if 'title' not in userPlaylist[currentSong]:\n",
        "        userPlaylist[currentSong]['title'] = d['filename'].replace(\"webm\", \"wav\")\n",
        "        \n",
        "    if d['status'] == 'finished':\n",
        "        print('Download done, converting now')"
      ]
    },
    {
      "cell_type": "markdown",
      "metadata": {
        "id": "i9qUmrC02OcB"
      },
      "source": [
        "# 2. Driver Code\n",
        "The driver code runs the **youtube_dl** library to pull up a user's playlist, and calls the K-Means Clustering Algorithm on it. "
      ]
    },
    {
      "cell_type": "code",
      "execution_count": null,
      "metadata": {
        "colab": {
          "base_uri": "https://localhost:8080/"
        },
        "id": "11DaV6Ee2NUA",
        "outputId": "fcd17bdf-c945-487b-a54d-12a6cbd65b24"
      },
      "outputs": [],
      "source": [
        "userPlaylist = takeUserPlaylist()\n",
        "currentSong = 0\n",
        "\n",
        "ydl_opts = {\n",
        "    'format': 'bestaudio/best',\n",
        "    'postprocessors': [{\n",
        "        'key': 'FFmpegExtractAudio',\n",
        "        'preferredcodec': 'wav',\n",
        "        'preferredquality': '192',\n",
        "    }],\n",
        "    'progress_hooks': [my_hook],\n",
        "    'output': None\n",
        "}\n",
        "        \n",
        "    \n",
        "with youtube_dl.YoutubeDL(ydl_opts) as ydl:\n",
        "    for song in userPlaylist:\n",
        "        ydl.download([song['url']])\n",
        "        currentSong += 1"
      ]
    },
    {
      "cell_type": "code",
      "execution_count": null,
      "metadata": {},
      "outputs": [],
      "source": [
        "GTZANdirectory = \"./GTZAN/\"\n",
        "datfile = open(\"gtzandata.dat\", \"wb\")\n",
        "i = 0\n",
        "\n",
        "for folder in os.listdir(GTZANdirectory):\n",
        "    i += 1\n",
        "\n",
        "    if i == 11:\n",
        "        break\n",
        "\n",
        "    for file in os.listdir(GTZANdirectory + folder):\n",
        "        (rate,sig) = wav.read(GTZANdirectory + folder + \"/\" + file)\n",
        "        mfcc_feat = mfcc(sig, rate, winlen=0.020, appendEnergy = False)\n",
        "        covariance = np.cov(np.matrix.transpose(mfcc_feat))\n",
        "        mean_matrix = mfcc_feat.mean(0)\n",
        "        feature = (mean_matrix , covariance , i)\n",
        "        pickle.dump(feature, datfile)\n",
        "    \n",
        "datfile.close()"
      ]
    },
    {
      "cell_type": "code",
      "execution_count": null,
      "metadata": {},
      "outputs": [],
      "source": [
        "dataset = []\n",
        "def loadDataset(filename):\n",
        "    with open(filename, 'rb') as f:\n",
        "        while True:\n",
        "            try:\n",
        "                dataset.append(pickle.load(f))\n",
        "            except EOFError:\n",
        "                f.close()\n",
        "                break\n",
        "loadDataset(\"gtzandata.dat\")\n",
        "print(dataset)"
      ]
    },
    {
      "cell_type": "code",
      "execution_count": null,
      "metadata": {
        "colab": {
          "base_uri": "https://localhost:8080/",
          "height": 1000
        },
        "id": "6Y4NxecwiO6K",
        "outputId": "13ef416f-5ed2-4279-ba3b-3622dacb1265"
      },
      "outputs": [],
      "source": [
        "(rate,sig)=wav.read(\"The Kid LAROI, Justin Bieber - STAY (Official Video)-kTJczUoc26U.wav\")\n",
        "\n",
        "mfcc_feat = mfcc(sig,rate,winlen=0.020,appendEnergy=False)\n",
        "\n",
        "covariance = np.cov(np.matrix.transpose(mfcc_feat))\n",
        "\n",
        "mean_matrix = mfcc_feat.mean(0)\n",
        "feature=(mean_matrix,covariance,0)\n",
        "print(\"mean\")\n",
        "print(mean_matrix)\n",
        "\n",
        "\n",
        "temp = []\n",
        "for row in covariance:\n",
        "    for ele in row:\n",
        "        temp.append(ele)\n",
        "covariance = temp\n",
        "print(covariance)\n",
        "\n",
        "model = KMeans(n_clusters=10)\n",
        "model.fit(trainingFeatures)\n"
      ]
    }
  ],
  "metadata": {
    "colab": {
      "collapsed_sections": [],
      "name": "Genre Classification using K-Means Clustering.ipynb",
      "provenance": []
    },
    "kernelspec": {
      "display_name": "Python 3",
      "name": "python3"
    },
    "language_info": {
      "codemirror_mode": {
        "name": "ipython",
        "version": 3
      },
      "file_extension": ".py",
      "mimetype": "text/x-python",
      "name": "python",
      "nbconvert_exporter": "python",
      "pygments_lexer": "ipython3",
      "version": "3.8.0"
    }
  },
  "nbformat": 4,
  "nbformat_minor": 0
}
