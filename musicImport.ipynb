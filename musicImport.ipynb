{
 "cells": [
  {
   "cell_type": "markdown",
   "metadata": {},
   "source": [
    "## Importing Music\n",
    "### Using YouTube-DL"
   ]
  },
  {
   "cell_type": "code",
   "execution_count": null,
   "metadata": {},
   "outputs": [],
   "source": [
    "import youtube_dl\n",
    "import pprint\n",
    "\n",
    "\n",
    "def takeUserPlaylist():\n",
    "    n = int(input(\"How many songs are in your playlist - \"))\n",
    "    listOfSongs = [ {} for i in range(n) ]\n",
    "\n",
    "    for i, song in enumerate(listOfSongs):\n",
    "        listOfSongs[i]['url'] = input(\"Enter URL: \")\n",
    "        \n",
    "    return listOfSongs\n",
    "\n",
    "\n",
    "def my_hook(d):\n",
    "    if 'title' not in userPlaylist[currentSong]:\n",
    "        userPlaylist[currentSong]['title'] = d['filename'].replace(\"webm\", \"wav\")\n",
    "        \n",
    "    if d['status'] == 'finished':\n",
    "        print('Download done, converting now')"
   ]
  },
  {
   "cell_type": "code",
   "execution_count": null,
   "metadata": {},
   "outputs": [],
   "source": [
    "userPlaylist = takeUserPlaylist()\n",
    "currentSong = 0\n",
    "\n",
    "ydl_opts = {\n",
    "    'format': 'bestaudio/best',\n",
    "    'postprocessors': [{\n",
    "        'key': 'FFmpegExtractAudio',\n",
    "        'preferredcodec': 'wav',\n",
    "        'preferredquality': '192',\n",
    "    }],\n",
    "    'progress_hooks': [my_hook],\n",
    "    'output'\n",
    "}\n",
    "        \n",
    "    \n",
    "with youtube_dl.YoutubeDL(ydl_opts) as ydl:\n",
    "    for song in userPlaylist:\n",
    "        ydl.download([song['url']])\n",
    "        currentSong += 1\n",
    "    \n",
    "pprint.pprint(userPlaylist) # use this - it has the URLs as well as the filenames, you can process the filenames ( .split('-')[:-1] should do the trick ) to get the title, and then feed that into the API"
   ]
  }
 ],
 "metadata": {
  "interpreter": {
   "hash": "7d74af9d7e93abf5d87f23b90ce22ee13e882c7fd3cb412568000010a82234ea"
  },
  "kernelspec": {
   "display_name": "Python 3.9.6 64-bit ('VENV': venv)",
   "language": "python",
   "name": "python3"
  },
  "language_info": {
   "codemirror_mode": {
    "name": "ipython",
    "version": 3
   },
   "file_extension": ".py",
   "mimetype": "text/x-python",
   "name": "python",
   "nbconvert_exporter": "python",
   "pygments_lexer": "ipython3",
   "version": "3.9.6"
  },
  "orig_nbformat": 4
 },
 "nbformat": 4,
 "nbformat_minor": 2
}
