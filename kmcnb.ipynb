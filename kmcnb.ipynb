{
 "cells": [
  {
   "cell_type": "code",
   "execution_count": null,
   "metadata": {},
   "outputs": [],
   "source": [
    "%pip install librosa\n",
    "%pip install matplotlib\n",
    "%pip install panda"
   ]
  },
  {
   "cell_type": "code",
   "execution_count": 94,
   "metadata": {},
   "outputs": [],
   "source": [
    "import glob\n",
    "import os\n",
    "import librosa\n",
    "import numpy as np\n",
    "from sklearn import datasets\n",
    "from sklearn.cluster import KMeans\n",
    "from sklearn.svm import SVC\n",
    "import sklearn.metrics as sm\n",
    "import pandas as pd   \n",
    "from sklearn.model_selection import train_test_split\n",
    "from sklearn.metrics import accuracy_score\n",
    "from sklearn.neighbors import KNeighborsClassifier\n"
   ]
  },
  {
   "cell_type": "code",
   "execution_count": 56,
   "metadata": {},
   "outputs": [
    {
     "name": "stdout",
     "output_type": "stream",
     "text": [
      "Processing Sub-Directory: blues\n",
      "\tProcessing File: ./GTZAN\\blues\\blues.00000.wav\n",
      "\tProcessing File: ./GTZAN\\blues\\blues.00001.wav\n",
      "\tProcessing File: ./GTZAN\\blues\\blues.00002.wav\n",
      "\tProcessing File: ./GTZAN\\blues\\blues.00003.wav\n",
      "\tProcessing File: ./GTZAN\\blues\\blues.00004.wav\n",
      "\tProcessing File: ./GTZAN\\blues\\blues.00005.wav\n",
      "\tProcessing File: ./GTZAN\\blues\\blues.00006.wav\n",
      "\tProcessing File: ./GTZAN\\blues\\blues.00007.wav\n",
      "\tProcessing File: ./GTZAN\\blues\\blues.00008.wav\n",
      "\tProcessing File: ./GTZAN\\blues\\blues.00009.wav\n",
      "Processing Sub-Directory: classical\n",
      "\tProcessing File: ./GTZAN\\classical\\classical.00000.wav\n",
      "\tProcessing File: ./GTZAN\\classical\\classical.00001.wav\n",
      "\tProcessing File: ./GTZAN\\classical\\classical.00002.wav\n",
      "\tProcessing File: ./GTZAN\\classical\\classical.00003.wav\n",
      "\tProcessing File: ./GTZAN\\classical\\classical.00004.wav\n",
      "\tProcessing File: ./GTZAN\\classical\\classical.00005.wav\n",
      "\tProcessing File: ./GTZAN\\classical\\classical.00006.wav\n",
      "\tProcessing File: ./GTZAN\\classical\\classical.00007.wav\n",
      "\tProcessing File: ./GTZAN\\classical\\classical.00008.wav\n",
      "\tProcessing File: ./GTZAN\\classical\\classical.00009.wav\n",
      "Processing Sub-Directory: country\n",
      "\tProcessing File: ./GTZAN\\country\\country.00000.wav\n",
      "\tProcessing File: ./GTZAN\\country\\country.00001.wav\n",
      "\tProcessing File: ./GTZAN\\country\\country.00002.wav\n",
      "\tProcessing File: ./GTZAN\\country\\country.00003.wav\n",
      "\tProcessing File: ./GTZAN\\country\\country.00004.wav\n",
      "\tProcessing File: ./GTZAN\\country\\country.00005.wav\n",
      "\tProcessing File: ./GTZAN\\country\\country.00006.wav\n",
      "\tProcessing File: ./GTZAN\\country\\country.00007.wav\n",
      "\tProcessing File: ./GTZAN\\country\\country.00008.wav\n",
      "\tProcessing File: ./GTZAN\\country\\country.00009.wav\n",
      "Processing Sub-Directory: disco\n",
      "\tProcessing File: ./GTZAN\\disco\\disco.00000.wav\n",
      "\tProcessing File: ./GTZAN\\disco\\disco.00001.wav\n",
      "\tProcessing File: ./GTZAN\\disco\\disco.00002.wav\n",
      "\tProcessing File: ./GTZAN\\disco\\disco.00003.wav\n",
      "\tProcessing File: ./GTZAN\\disco\\disco.00004.wav\n",
      "\tProcessing File: ./GTZAN\\disco\\disco.00005.wav\n",
      "\tProcessing File: ./GTZAN\\disco\\disco.00006.wav\n",
      "\tProcessing File: ./GTZAN\\disco\\disco.00007.wav\n",
      "\tProcessing File: ./GTZAN\\disco\\disco.00008.wav\n",
      "\tProcessing File: ./GTZAN\\disco\\disco.00009.wav\n",
      "Processing Sub-Directory: hiphop\n",
      "\tProcessing File: ./GTZAN\\hiphop\\hiphop.00000.wav\n",
      "\tProcessing File: ./GTZAN\\hiphop\\hiphop.00001.wav\n",
      "\tProcessing File: ./GTZAN\\hiphop\\hiphop.00002.wav\n",
      "\tProcessing File: ./GTZAN\\hiphop\\hiphop.00003.wav\n",
      "\tProcessing File: ./GTZAN\\hiphop\\hiphop.00004.wav\n",
      "\tProcessing File: ./GTZAN\\hiphop\\hiphop.00005.wav\n",
      "\tProcessing File: ./GTZAN\\hiphop\\hiphop.00006.wav\n",
      "\tProcessing File: ./GTZAN\\hiphop\\hiphop.00007.wav\n",
      "\tProcessing File: ./GTZAN\\hiphop\\hiphop.00008.wav\n",
      "\tProcessing File: ./GTZAN\\hiphop\\hiphop.00009.wav\n",
      "Processing Sub-Directory: jazz\n",
      "\tProcessing File: ./GTZAN\\jazz\\jazz.00000.wav\n",
      "\tProcessing File: ./GTZAN\\jazz\\jazz.00001.wav\n",
      "\tProcessing File: ./GTZAN\\jazz\\jazz.00002.wav\n",
      "\tProcessing File: ./GTZAN\\jazz\\jazz.00003.wav\n",
      "\tProcessing File: ./GTZAN\\jazz\\jazz.00004.wav\n",
      "\tProcessing File: ./GTZAN\\jazz\\jazz.00005.wav\n",
      "\tProcessing File: ./GTZAN\\jazz\\jazz.00006.wav\n",
      "\tProcessing File: ./GTZAN\\jazz\\jazz.00007.wav\n",
      "\tProcessing File: ./GTZAN\\jazz\\jazz.00008.wav\n",
      "\tProcessing File: ./GTZAN\\jazz\\jazz.00009.wav\n",
      "Processing Sub-Directory: metal\n",
      "\tProcessing File: ./GTZAN\\metal\\metal.00000.wav\n",
      "\tProcessing File: ./GTZAN\\metal\\metal.00001.wav\n",
      "\tProcessing File: ./GTZAN\\metal\\metal.00002.wav\n",
      "\tProcessing File: ./GTZAN\\metal\\metal.00003.wav\n",
      "\tProcessing File: ./GTZAN\\metal\\metal.00004.wav\n",
      "\tProcessing File: ./GTZAN\\metal\\metal.00005.wav\n",
      "\tProcessing File: ./GTZAN\\metal\\metal.00006.wav\n",
      "\tProcessing File: ./GTZAN\\metal\\metal.00007.wav\n",
      "\tProcessing File: ./GTZAN\\metal\\metal.00008.wav\n",
      "\tProcessing File: ./GTZAN\\metal\\metal.00009.wav\n",
      "Processing Sub-Directory: pop\n",
      "\tProcessing File: ./GTZAN\\pop\\pop.00000.wav\n",
      "\tProcessing File: ./GTZAN\\pop\\pop.00001.wav\n",
      "\tProcessing File: ./GTZAN\\pop\\pop.00002.wav\n",
      "\tProcessing File: ./GTZAN\\pop\\pop.00003.wav\n",
      "\tProcessing File: ./GTZAN\\pop\\pop.00004.wav\n",
      "\tProcessing File: ./GTZAN\\pop\\pop.00005.wav\n",
      "\tProcessing File: ./GTZAN\\pop\\pop.00006.wav\n",
      "\tProcessing File: ./GTZAN\\pop\\pop.00007.wav\n",
      "\tProcessing File: ./GTZAN\\pop\\pop.00008.wav\n",
      "\tProcessing File: ./GTZAN\\pop\\pop.00009.wav\n",
      "Processing Sub-Directory: reggae\n",
      "\tProcessing File: ./GTZAN\\reggae\\reggae.00000.wav\n",
      "\tProcessing File: ./GTZAN\\reggae\\reggae.00001.wav\n",
      "\tProcessing File: ./GTZAN\\reggae\\reggae.00002.wav\n",
      "\tProcessing File: ./GTZAN\\reggae\\reggae.00003.wav\n",
      "\tProcessing File: ./GTZAN\\reggae\\reggae.00004.wav\n",
      "\tProcessing File: ./GTZAN\\reggae\\reggae.00005.wav\n",
      "\tProcessing File: ./GTZAN\\reggae\\reggae.00006.wav\n",
      "\tProcessing File: ./GTZAN\\reggae\\reggae.00007.wav\n",
      "\tProcessing File: ./GTZAN\\reggae\\reggae.00008.wav\n",
      "\tProcessing File: ./GTZAN\\reggae\\reggae.00009.wav\n",
      "Processing Sub-Directory: rock\n",
      "\tProcessing File: ./GTZAN\\rock\\rock.00000.wav\n",
      "\tProcessing File: ./GTZAN\\rock\\rock.00001.wav\n",
      "\tProcessing File: ./GTZAN\\rock\\rock.00002.wav\n",
      "\tProcessing File: ./GTZAN\\rock\\rock.00003.wav\n",
      "\tProcessing File: ./GTZAN\\rock\\rock.00004.wav\n",
      "\tProcessing File: ./GTZAN\\rock\\rock.00005.wav\n",
      "\tProcessing File: ./GTZAN\\rock\\rock.00006.wav\n",
      "\tProcessing File: ./GTZAN\\rock\\rock.00007.wav\n",
      "\tProcessing File: ./GTZAN\\rock\\rock.00008.wav\n",
      "\tProcessing File: ./GTZAN\\rock\\rock.00009.wav\n"
     ]
    },
    {
     "name": "stderr",
     "output_type": "stream",
     "text": [
      "C:\\Users\\AKSHAT~1\\AppData\\Local\\Temp/ipykernel_21088/1659718494.py:43: DeprecationWarning: `np.int` is a deprecated alias for the builtin `int`. To silence this warning, use `int` by itself. Doing this will not modify any behavior and is safe. When replacing `np.int`, you may wish to use e.g. `np.int64` or `np.int32` to specify the precision. If you wish to review your current use, check the release note link for additional information.\n",
      "Deprecated in NumPy 1.20; for more details and guidance: https://numpy.org/devdocs/release/1.20.0-notes.html#deprecations\n",
      "  return np.array(features), np.array(labels, dtype=np.int)\n"
     ]
    }
   ],
   "source": [
    "######################### Helper Methods ################################\n",
    "\n",
    "def backupFeatures(X, Y):\n",
    "\tX_df = pd.DataFrame(X)\n",
    "\tY_df = pd.DataFrame(Y)\n",
    "\tX_df.to_csv(\"X_df_parallel.csv\")\n",
    "\tY_df.to_csv(\"Y_df_parallel.csv\")\n",
    "\n",
    "def featureExtraction(fileName):\n",
    "\traw, rate = librosa.load(fileName)\n",
    "\tstft = np.abs(librosa.stft(raw))\n",
    "\tmfcc = np.mean(librosa.feature.mfcc(y=raw,sr=rate,n_mfcc=40).T, axis=0)\n",
    "\tchroma = np.mean(librosa.feature.chroma_stft(S=stft, sr=rate).T, axis=0)\n",
    "\tmel = np.mean(librosa.feature.melspectrogram(raw, sr=rate).T, axis=0)\n",
    "\tcontrast = np.mean(librosa.feature.spectral_contrast(S=stft, sr=rate).T, axis=0)\n",
    "\ttonnetz = np.mean(librosa.feature.tonnetz(y=librosa.effects.harmonic(raw), sr=rate).T, axis=0)\n",
    "\treturn mfcc, chroma, mel, contrast, tonnetz\n",
    "\n",
    "def processSong(fn):\n",
    "\tmfcc, chroma, mel, contrast, tonnetz = featureExtraction(fn)\n",
    "\ttempFeatures = np.hstack([mfcc, chroma, mel, contrast, tonnetz])\n",
    "\n",
    "\treturn tempFeatures\n",
    "\n",
    "def processGenre(parentDirectory, subDir, i_low, i_high, fileExtension):\n",
    "\tfeatures, labels = np.empty((0,193)), np.empty(0)\n",
    "\ti = i_low\n",
    "\tfor fn in glob.glob(os.path.join(parentDirectory, subDir, fileExtension)):\n",
    "\t\tif i == i_high:\n",
    "\t\t\tbreak\n",
    "\t\ti += 1\n",
    "\t\tprint(f\"\\tProcessing File: {fn}\")\n",
    "\t\tmfcc, chroma, mel, contrast, tonnetz = featureExtraction(fn)\n",
    "\t\ttempFeatures = np.hstack([mfcc, chroma, mel, contrast, tonnetz])\n",
    "\t\tfeatures = np.vstack([features, tempFeatures])\n",
    "\t\t# pop = 1, classical = 2, metal = 3, rock = 0\n",
    "\t\tglobal music_map\n",
    "\t\tlabels = np.append(labels, music_map[subDir])\n",
    "\treturn features, labels\n",
    "\t\n",
    "\n",
    "# Takes parent directory name, subdirectories within parent directory, and file extension as input. \n",
    "def parseAudio(parentDirectory, subDirectories, i_low, i_high, \tfileExtension=\"*.wav\"):\n",
    "\t\n",
    "\tinputVector = list()\n",
    "\n",
    "\tfor subDir in subDirectories:\n",
    "\t\tinputVector.append([parentDirectory, subDir, i_low, i_high, fileExtension])\n",
    "\t\n",
    "\twith Pool(None) as p:\n",
    "\t\tresults = p.starmap(processGenre, inputVector)\n",
    "\t\n",
    "\tfeatures = np.empty((0,193))\n",
    "\tlabels = np.empty(0)\n",
    "\tfor result in results:\n",
    "\t\tfeatures = np.vstack([features, result[0]])\n",
    "\t\tlabels = np.append(labels, result[1])\n",
    "\t\n",
    "\treturn np.array(features), np.array(labels, dtype=np.int)\n",
    "\n",
    "music_map = {\n",
    "\t\"blues\": 0, \"classical\": 1, \"country\": 2, \"disco\": 3, \"hiphop\": 4, \"jazz\": 5, \"metal\": 6, \"pop\": 7, \"reggae\": 8, \"rock\": 9\n",
    "}\n",
    "\n",
    "subDirectories = [\"blues\", \"classical\", \"country\", \"disco\", \"hiphop\", \"jazz\", \"metal\", \"pop\", \"reggae\", \"rock\"]\n",
    "\n",
    "X, Y = parseAudio(\"./GTZAN\", subDirectories, 0, 10)\n",
    "\n"
   ]
  },
  {
   "cell_type": "code",
   "execution_count": 57,
   "metadata": {},
   "outputs": [
    {
     "ename": "TypeError",
     "evalue": "'newline' is an invalid keyword argument for this function",
     "output_type": "error",
     "traceback": [
      "\u001b[1;31m---------------------------------------------------------------------------\u001b[0m",
      "\u001b[1;31mTypeError\u001b[0m                                 Traceback (most recent call last)",
      "\u001b[1;32mC:\\Users\\AKSHAT~1\\AppData\\Local\\Temp/ipykernel_21088/939135309.py\u001b[0m in \u001b[0;36m<module>\u001b[1;34m\u001b[0m\n\u001b[0;32m      2\u001b[0m \u001b[1;33m\u001b[0m\u001b[0m\n\u001b[0;32m      3\u001b[0m \u001b[1;32mwith\u001b[0m \u001b[0mopen\u001b[0m\u001b[1;33m(\u001b[0m\u001b[1;34m\"XDataBig.csv\"\u001b[0m\u001b[1;33m,\u001b[0m\u001b[1;34m\"w+\"\u001b[0m\u001b[1;33m)\u001b[0m \u001b[1;32mas\u001b[0m \u001b[0mmy_csv\u001b[0m\u001b[1;33m:\u001b[0m\u001b[1;33m\u001b[0m\u001b[1;33m\u001b[0m\u001b[0m\n\u001b[1;32m----> 4\u001b[1;33m     \u001b[0mcsvWriter\u001b[0m \u001b[1;33m=\u001b[0m \u001b[0mcsv\u001b[0m\u001b[1;33m.\u001b[0m\u001b[0mwriter\u001b[0m\u001b[1;33m(\u001b[0m\u001b[0mmy_csv\u001b[0m\u001b[1;33m,\u001b[0m \u001b[0mdelimiter\u001b[0m\u001b[1;33m=\u001b[0m\u001b[1;34m','\u001b[0m\u001b[1;33m,\u001b[0m \u001b[0mnewline\u001b[0m\u001b[1;33m=\u001b[0m\u001b[1;34m''\u001b[0m\u001b[1;33m)\u001b[0m\u001b[1;33m\u001b[0m\u001b[1;33m\u001b[0m\u001b[0m\n\u001b[0m\u001b[0;32m      5\u001b[0m     \u001b[0mcsvWriter\u001b[0m\u001b[1;33m.\u001b[0m\u001b[0mwriterows\u001b[0m\u001b[1;33m(\u001b[0m\u001b[0mX\u001b[0m\u001b[1;33m)\u001b[0m\u001b[1;33m\u001b[0m\u001b[1;33m\u001b[0m\u001b[0m\n\u001b[0;32m      6\u001b[0m \u001b[1;33m\u001b[0m\u001b[0m\n",
      "\u001b[1;31mTypeError\u001b[0m: 'newline' is an invalid keyword argument for this function"
     ]
    }
   ],
   "source": [
    "X_train, X_test, Y_train, Y_test = train_test_split(X, Y, test_size = 0.1)\n",
    "\n",
    "kmc = KMeans(n_clusters=10)\n",
    "kmc.fit(X_train)\n",
    "train_pred = kmc.predict(X_train)\n",
    "test_pred = kmc.predict(X_test)\n",
    "#################### Test Results ###################################\n",
    "\n",
    "with open(\"XDataBig.csv\",\"w+\") as my_csv:\n",
    "    csvWriter = csv.writer(my_csv, delimiter=',', newline='')\n",
    "    csvWriter.writerows(X)\n",
    "\n",
    "with open(\"YDataBig.csv\",\"w+\") as my_csv:\n",
    "    csvWriter = csv.writer(my_csv, delimiter=',', newline='')\n",
    "    csvWriter.writerow(Y)"
   ]
  },
  {
   "cell_type": "code",
   "execution_count": 114,
   "metadata": {},
   "outputs": [
    {
     "name": "stdout",
     "output_type": "stream",
     "text": [
      "[2 8 0 8 7 3 2 5 4 6 0 4 5 1 5 7 8 8 9 6 6 5 4 9 7 2 3 8 1 1 7 9 3 7 6 4 3\n",
      " 7 0 0 9 6 4 8 1 5 4 7 6 8]\n",
      "[2 1 1 1 6 4 4 5 0 2 2 0 5 5 5 4 1 1 1 2 2 5 0 9 2 4 4 1 5 5 1 2 9 0 2 6 4\n",
      " 5 5 5 2 2 2 1 5 5 4 1 2 1]\n",
      "0.16\n"
     ]
    }
   ],
   "source": [
    "X_train, X_test, Y_train, Y_test = train_test_split(X, Y, test_size = 0.5)\n",
    "\n",
    "X_train, X_test, Y_train, Y_test = train_test_split(X, Y, test_size = 0.1)\n",
    "\n",
    "classifier = SVC(kernel='poly')\n",
    "classifier.fit(X_train, Y_train)\n",
    "\n",
    "y_pred = classifier.predict(X_test)\n",
    "\n",
    "print(accuracy_score(Y_test, y_pred))\n"
   ]
  },
  {
   "cell_type": "code",
   "execution_count": 93,
   "metadata": {},
   "outputs": [
    {
     "name": "stdout",
     "output_type": "stream",
     "text": [
      "0.22\n"
     ]
    }
   ],
   "source": [
    "classifier = SVC(kernel='rbf')\n",
    "classifier.fit(X_train, Y_train)\n",
    "\n",
    "y_pred = classifier.predict(X_test)\n",
    "\n",
    "print(accuracy_score(Y_test, y_pred))"
   ]
  },
  {
   "cell_type": "code",
   "execution_count": 115,
   "metadata": {},
   "outputs": [
    {
     "name": "stdout",
     "output_type": "stream",
     "text": [
      "0.28\n"
     ]
    }
   ],
   "source": [
    "knn = KNeighborsClassifier(n_neighbors=5)\n",
    "knn.fit(X_train, Y_train)\n",
    "\n",
    "y_pred = classifier.predict(X_test)\n",
    "\n",
    "print(accuracy_score(Y_test, y_pred))\n"
   ]
  }
 ],
 "metadata": {
  "interpreter": {
   "hash": "e9d248b6c8f08e6a39f5c365f26d337b65dd9058cf91266f81440a57d16e2899"
  },
  "kernelspec": {
   "display_name": "Python 3.7.4 32-bit",
   "language": "python",
   "name": "python3"
  },
  "language_info": {
   "codemirror_mode": {
    "name": "ipython",
    "version": 3
   },
   "file_extension": ".py",
   "mimetype": "text/x-python",
   "name": "python",
   "nbconvert_exporter": "python",
   "pygments_lexer": "ipython3",
   "version": "3.8.10"
  },
  "orig_nbformat": 4
 },
 "nbformat": 4,
 "nbformat_minor": 2
}
